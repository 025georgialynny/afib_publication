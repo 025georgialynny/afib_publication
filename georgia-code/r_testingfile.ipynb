{
 "cells": [
  {
   "cell_type": "raw",
   "id": "768b48fc-7ebc-4f11-ab58-a026d03c97cc",
   "metadata": {},
   "source": [
    "#change this cell from 'Raw' to 'Code' if need to install dependencies\n",
    "install.packages(\"reticulate\")"
   ]
  },
  {
   "cell_type": "code",
   "execution_count": 1,
   "id": "4e6e40b0-3a4b-46f3-bcc1-c205c8cc9b8c",
   "metadata": {},
   "outputs": [],
   "source": [
    "library(reticulate)"
   ]
  },
  {
   "cell_type": "code",
   "execution_count": 2,
   "id": "dfc77d12-d321-493e-aa51-a116451ad47b",
   "metadata": {},
   "outputs": [],
   "source": [
    "use_python('/Users/gsmith/miniforge3/bin/python')"
   ]
  },
  {
   "cell_type": "code",
   "execution_count": 3,
   "id": "914cc0f5-5987-4007-9c66-5f73354c4dda",
   "metadata": {},
   "outputs": [],
   "source": [
    "source_python(\"Extract_Data.py\")\n",
    "\n",
    "#download_mit_bih()\n",
    "extract_data = extract_mit_bih()"
   ]
  },
  {
   "cell_type": "code",
   "execution_count": 8,
   "id": "e015db94-a47d-403f-bf9a-d0968df0dd2d",
   "metadata": {},
   "outputs": [
    {
     "data": {
      "text/html": [
       "<ol>\n",
       "\t<li><style>\n",
       ".list-inline {list-style: none; margin:0; padding: 0}\n",
       ".list-inline>li {display: inline-block}\n",
       ".list-inline>li:not(:last-child)::after {content: \"\\00b7\"; padding: 0 .5ex}\n",
       "</style>\n",
       "<ol class=list-inline><li>'00735'</li><li>'03665'</li></ol>\n",
       "</li>\n",
       "</ol>\n"
      ],
      "text/latex": [
       "\\begin{enumerate}\n",
       "\\item \\begin{enumerate*}\n",
       "\\item '00735'\n",
       "\\item '03665'\n",
       "\\end{enumerate*}\n",
       "\n",
       "\\end{enumerate}\n"
      ],
      "text/markdown": [
       "1. 1. '00735'\n",
       "2. '03665'\n",
       "\n",
       "\n",
       "\n",
       "\n",
       "\n"
      ],
      "text/plain": [
       "[[1]]\n",
       "[1] \"00735\" \"03665\"\n"
      ]
     },
     "metadata": {},
     "output_type": "display_data"
    }
   ],
   "source": [
    "extract_data[2]"
   ]
  },
  {
   "cell_type": "code",
   "execution_count": null,
   "id": "5e052b2a-295e-4cfc-9b65-7994ca6f09ff",
   "metadata": {},
   "outputs": [],
   "source": []
  }
 ],
 "metadata": {
  "kernelspec": {
   "display_name": "R",
   "language": "R",
   "name": "ir"
  },
  "language_info": {
   "codemirror_mode": "r",
   "file_extension": ".r",
   "mimetype": "text/x-r-source",
   "name": "R",
   "pygments_lexer": "r",
   "version": "4.1.0"
  }
 },
 "nbformat": 4,
 "nbformat_minor": 5
}
