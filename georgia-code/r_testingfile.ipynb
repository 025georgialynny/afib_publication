{
 "cells": [
  {
   "cell_type": "raw",
   "id": "768b48fc-7ebc-4f11-ab58-a026d03c97cc",
   "metadata": {},
   "source": [
    "#change this cell from 'Raw' to 'Code' if need to install dependencies\n",
    "install.packages(\"reticulate\")"
   ]
  },
  {
   "cell_type": "code",
   "execution_count": 1,
   "id": "4e6e40b0-3a4b-46f3-bcc1-c205c8cc9b8c",
   "metadata": {},
   "outputs": [],
   "source": [
    "library(reticulate)"
   ]
  },
  {
   "cell_type": "code",
   "execution_count": 2,
   "id": "dfc77d12-d321-493e-aa51-a116451ad47b",
   "metadata": {},
   "outputs": [],
   "source": [
    "use_python('/Users/gsmith/miniforge3/bin/python')"
   ]
  },
  {
   "cell_type": "code",
   "execution_count": 3,
   "id": "914cc0f5-5987-4007-9c66-5f73354c4dda",
   "metadata": {},
   "outputs": [],
   "source": [
    "source_python(\"Extract_Data.py\")\n",
    "\n",
    "#download_mit_bih()\n",
    "extract_data = extract_mit_bih()"
   ]
  },
  {
   "cell_type": "code",
   "execution_count": 4,
   "id": "e015db94-a47d-403f-bf9a-d0968df0dd2d",
   "metadata": {},
   "outputs": [
    {
     "data": {
      "text/plain": [
       "NULL"
      ]
     },
     "metadata": {},
     "output_type": "display_data"
    }
   ],
   "source": [
    "extract_data[2]"
   ]
  },
  {
   "cell_type": "code",
   "execution_count": 37,
   "id": "5e052b2a-295e-4cfc-9b65-7994ca6f09ff",
   "metadata": {},
   "outputs": [],
   "source": [
    "subject_list <- as.list(read.csv(\"../mit_bih_extracted/dataframes/subject_list.csv\", header = FALSE))"
   ]
  },
  {
   "cell_type": "code",
   "execution_count": 39,
   "id": "95f1dd6a-618f-4327-b66a-221b3c46a829",
   "metadata": {},
   "outputs": [
    {
     "name": "stdout",
     "output_type": "stream",
     "text": [
      "[1] 1\n"
     ]
    }
   ],
   "source": [
    "data_frames <- list()\n",
    "for (x in seq_along(subject_list)) {\n",
    "    print(x)\n",
    "    }"
   ]
  },
  {
   "cell_type": "code",
   "execution_count": 36,
   "id": "00f17645-7ea0-4df6-a5c9-3fb3119c42f5",
   "metadata": {},
   "outputs": [
    {
     "data": {
      "text/html": [
       "<strong>$V1</strong> = <style>\n",
       ".list-inline {list-style: none; margin:0; padding: 0}\n",
       ".list-inline>li {display: inline-block}\n",
       ".list-inline>li:not(:last-child)::after {content: \"\\00b7\"; padding: 0 .5ex}\n",
       "</style>\n",
       "<ol class=list-inline><li>4015</li><li>4043</li><li>4048</li><li>4126</li><li>4746</li><li>4908</li><li>4936</li><li>5091</li><li>5121</li><li>5261</li><li>6426</li><li>6453</li><li>6995</li><li>7162</li><li>7859</li><li>7879</li><li>7910</li><li>8215</li><li>8219</li><li>8378</li><li>8405</li><li>8434</li><li>8455</li></ol>\n"
      ],
      "text/latex": [
       "\\textbf{\\$V1} = \\begin{enumerate*}\n",
       "\\item 4015\n",
       "\\item 4043\n",
       "\\item 4048\n",
       "\\item 4126\n",
       "\\item 4746\n",
       "\\item 4908\n",
       "\\item 4936\n",
       "\\item 5091\n",
       "\\item 5121\n",
       "\\item 5261\n",
       "\\item 6426\n",
       "\\item 6453\n",
       "\\item 6995\n",
       "\\item 7162\n",
       "\\item 7859\n",
       "\\item 7879\n",
       "\\item 7910\n",
       "\\item 8215\n",
       "\\item 8219\n",
       "\\item 8378\n",
       "\\item 8405\n",
       "\\item 8434\n",
       "\\item 8455\n",
       "\\end{enumerate*}\n"
      ],
      "text/markdown": [
       "**$V1** = 1. 4015\n",
       "2. 4043\n",
       "3. 4048\n",
       "4. 4126\n",
       "5. 4746\n",
       "6. 4908\n",
       "7. 4936\n",
       "8. 5091\n",
       "9. 5121\n",
       "10. 5261\n",
       "11. 6426\n",
       "12. 6453\n",
       "13. 6995\n",
       "14. 7162\n",
       "15. 7859\n",
       "16. 7879\n",
       "17. 7910\n",
       "18. 8215\n",
       "19. 8219\n",
       "20. 8378\n",
       "21. 8405\n",
       "22. 8434\n",
       "23. 8455\n",
       "\n",
       "\n"
      ],
      "text/plain": [
       "$V1\n",
       " [1] 4015 4043 4048 4126 4746 4908 4936 5091 5121 5261 6426 6453 6995 7162 7859\n",
       "[16] 7879 7910 8215 8219 8378 8405 8434 8455\n"
      ]
     },
     "metadata": {},
     "output_type": "display_data"
    }
   ],
   "source": [
    "as.list(subject_list[1])"
   ]
  },
  {
   "cell_type": "code",
   "execution_count": 40,
   "id": "b6358bac-319d-410d-9a8d-be5060dec3a0",
   "metadata": {},
   "outputs": [
    {
     "data": {
      "text/html": [
       "<strong>$V1</strong> = <style>\n",
       ".list-inline {list-style: none; margin:0; padding: 0}\n",
       ".list-inline>li {display: inline-block}\n",
       ".list-inline>li:not(:last-child)::after {content: \"\\00b7\"; padding: 0 .5ex}\n",
       "</style>\n",
       "<ol class=list-inline><li>4015</li><li>4043</li><li>4048</li><li>4126</li><li>4746</li><li>4908</li><li>4936</li><li>5091</li><li>5121</li><li>5261</li><li>6426</li><li>6453</li><li>6995</li><li>7162</li><li>7859</li><li>7879</li><li>7910</li><li>8215</li><li>8219</li><li>8378</li><li>8405</li><li>8434</li><li>8455</li></ol>\n"
      ],
      "text/latex": [
       "\\textbf{\\$V1} = \\begin{enumerate*}\n",
       "\\item 4015\n",
       "\\item 4043\n",
       "\\item 4048\n",
       "\\item 4126\n",
       "\\item 4746\n",
       "\\item 4908\n",
       "\\item 4936\n",
       "\\item 5091\n",
       "\\item 5121\n",
       "\\item 5261\n",
       "\\item 6426\n",
       "\\item 6453\n",
       "\\item 6995\n",
       "\\item 7162\n",
       "\\item 7859\n",
       "\\item 7879\n",
       "\\item 7910\n",
       "\\item 8215\n",
       "\\item 8219\n",
       "\\item 8378\n",
       "\\item 8405\n",
       "\\item 8434\n",
       "\\item 8455\n",
       "\\end{enumerate*}\n"
      ],
      "text/markdown": [
       "**$V1** = 1. 4015\n",
       "2. 4043\n",
       "3. 4048\n",
       "4. 4126\n",
       "5. 4746\n",
       "6. 4908\n",
       "7. 4936\n",
       "8. 5091\n",
       "9. 5121\n",
       "10. 5261\n",
       "11. 6426\n",
       "12. 6453\n",
       "13. 6995\n",
       "14. 7162\n",
       "15. 7859\n",
       "16. 7879\n",
       "17. 7910\n",
       "18. 8215\n",
       "19. 8219\n",
       "20. 8378\n",
       "21. 8405\n",
       "22. 8434\n",
       "23. 8455\n",
       "\n",
       "\n"
      ],
      "text/plain": [
       "$V1\n",
       " [1] 4015 4043 4048 4126 4746 4908 4936 5091 5121 5261 6426 6453 6995 7162 7859\n",
       "[16] 7879 7910 8215 8219 8378 8405 8434 8455\n"
      ]
     },
     "metadata": {},
     "output_type": "display_data"
    }
   ],
   "source": [
    "subject_list"
   ]
  },
  {
   "cell_type": "code",
   "execution_count": null,
   "id": "0ca1fb06-542e-49e7-a625-42cbfa059484",
   "metadata": {},
   "outputs": [],
   "source": []
  }
 ],
 "metadata": {
  "kernelspec": {
   "display_name": "R",
   "language": "R",
   "name": "ir"
  },
  "language_info": {
   "codemirror_mode": "r",
   "file_extension": ".r",
   "mimetype": "text/x-r-source",
   "name": "R",
   "pygments_lexer": "r",
   "version": "4.1.0"
  }
 },
 "nbformat": 4,
 "nbformat_minor": 5
}
